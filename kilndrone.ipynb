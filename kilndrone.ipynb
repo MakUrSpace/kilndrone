{
 "cells": [
  {
   "cell_type": "code",
   "execution_count": 2,
   "id": "71b4776e-53a6-42e1-ab4e-3fec58e8fd84",
   "metadata": {},
   "outputs": [],
   "source": [
    "from time import sleep"
   ]
  },
  {
   "cell_type": "code",
   "execution_count": 66,
   "id": "05c5db48-45bc-450c-bb31-8a4e156da680",
   "metadata": {},
   "outputs": [],
   "source": [
    "class KilnDrone:\n",
    "    def __init__(self):\n",
    "        self.cycleCount = 0\n",
    "\n",
    "        self.tempObservationTime = 30\n",
    "        self.temperature = 0\n",
    "        self.targetTemp = 0\n",
    "        self.previousTemp = 0\n",
    "        \n",
    "        self.setPower = 0\n",
    "        self.currentPower = 0\n",
    "        self.powerStep = 1\n",
    "        self.powerWindow = 10\n",
    "        \n",
    "        self.power = False\n",
    "        self.powerMemory = [self.power]\n",
    "        self.powerMemoryDepth = 600\n",
    "        self.powerCycleTime = 1\n",
    "    \n",
    "    def momentum(self):\n",
    "        return self.temperature - self.previousTemp\n",
    "    \n",
    "    def stableTemperature(self):\n",
    "        return abs(self.momentum()) < self.powerWindow\n",
    "    \n",
    "    def atTargetTemperature(self):\n",
    "        return self.targetTemp == self.temperature\n",
    "    \n",
    "    def belowTargetTemperature(self):\n",
    "        return self.temperature < self.targetTemp\n",
    "    \n",
    "    def getCurrentPower(self):\n",
    "        return (sum(self.powerMemory) / len(self.powerMemory)) * 100\n",
    "    \n",
    "    def adjustPower(self):\n",
    "        if self.targetTemp < 80:\n",
    "            self.setPower = 0\n",
    "            return\n",
    "\n",
    "        if not self.stableTemperature():\n",
    "            return\n",
    "        \n",
    "        if self.atTargetTemperature():\n",
    "            return\n",
    "\n",
    "        self.setPower += self.powerStep * 1 if self.belowTargetTemperature() else -1\n",
    "    \n",
    "    def observePower(self):\n",
    "        self.powerMemory.insert(0, self.power)\n",
    "        while len(self.powerMemory) > self.powerMemoryDepth:\n",
    "            self.powerMemory.pop()\n",
    "    \n",
    "    def processPower(self):\n",
    "        currentPower = self.getCurrentPower()\n",
    "        if currentPower < max(self.setPower, 50):\n",
    "            self.power = True\n",
    "        else:\n",
    "            self.power = False\n",
    "        self.observePower()\n",
    "    \n",
    "    def observeTemperature(self):\n",
    "        print(\"Observing Temperature\")\n",
    "        self.previousTemp = self.temperature\n",
    "        self.temperature = 75\n",
    "        self.adjustPower()\n",
    "    \n",
    "    def cycle(self):\n",
    "        self.cycleCount += 1\n",
    "\n",
    "        self.processPower()\n",
    "        if self.cycleCount % self.tempObservationTime == 0:\n",
    "            self.observeTemperature()\n",
    "    \n",
    "    def __repr__(self):\n",
    "        return f\"{self.cycleCount:10} ||| TT: {self.targetTemp:4} || CT: {self.temperature:4} || SP: {min(self.setPower, 50):4} || CP: {self.getCurrentPower():4}\""
   ]
  },
  {
   "cell_type": "code",
   "execution_count": 67,
   "id": "2241980c-a6d1-462d-9cbf-896923429638",
   "metadata": {},
   "outputs": [
    {
     "data": {
      "text/plain": [
       "False"
      ]
     },
     "execution_count": 67,
     "metadata": {},
     "output_type": "execute_result"
    }
   ],
   "source": [
    "k.atTargetTemperature()"
   ]
  },
  {
   "cell_type": "code",
   "execution_count": 68,
   "id": "d3711b56-489d-4f30-9633-5933712ea57a",
   "metadata": {},
   "outputs": [
    {
     "name": "stdout",
     "output_type": "stream",
     "text": [
      "         1 ||| TT:    0 || CT:    0 || SP:   35 || CP: 50.0\n",
      "         2 ||| TT:    0 || CT:    0 || SP:   35 || CP: 33.33333333333333\n",
      "         3 ||| TT:    0 || CT:    0 || SP:   35 || CP: 50.0\n",
      "         4 ||| TT:    0 || CT:    0 || SP:   35 || CP: 40.0\n",
      "         5 ||| TT:    0 || CT:    0 || SP:   35 || CP: 50.0\n",
      "         6 ||| TT:    0 || CT:    0 || SP:   35 || CP: 42.857142857142854\n",
      "         7 ||| TT:    0 || CT:    0 || SP:   35 || CP: 50.0\n",
      "         8 ||| TT:    0 || CT:    0 || SP:   35 || CP: 44.44444444444444\n",
      "         9 ||| TT:    0 || CT:    0 || SP:   35 || CP: 50.0\n",
      "        10 ||| TT:    0 || CT:    0 || SP:   35 || CP: 45.45454545454545\n",
      "        11 ||| TT:    0 || CT:    0 || SP:   35 || CP: 50.0\n",
      "        12 ||| TT:    0 || CT:    0 || SP:   35 || CP: 46.15384615384615\n",
      "        13 ||| TT:    0 || CT:    0 || SP:   35 || CP: 50.0\n",
      "        14 ||| TT:    0 || CT:    0 || SP:   35 || CP: 46.666666666666664\n",
      "        15 ||| TT:    0 || CT:    0 || SP:   35 || CP: 50.0\n",
      "        16 ||| TT:    0 || CT:    0 || SP:   35 || CP: 47.05882352941176\n",
      "        17 ||| TT:    0 || CT:    0 || SP:   35 || CP: 50.0\n",
      "        18 ||| TT:    0 || CT:    0 || SP:   35 || CP: 47.368421052631575\n",
      "        19 ||| TT:    0 || CT:    0 || SP:   35 || CP: 50.0\n",
      "        20 ||| TT:    0 || CT:    0 || SP:   35 || CP: 47.61904761904761\n",
      "        21 ||| TT:    0 || CT:    0 || SP:   35 || CP: 50.0\n",
      "        22 ||| TT:    0 || CT:    0 || SP:   35 || CP: 47.82608695652174\n",
      "        23 ||| TT:    0 || CT:    0 || SP:   35 || CP: 50.0\n",
      "        24 ||| TT:    0 || CT:    0 || SP:   35 || CP: 48.0\n",
      "        25 ||| TT:    0 || CT:    0 || SP:   35 || CP: 50.0\n",
      "        26 ||| TT:    0 || CT:    0 || SP:   35 || CP: 48.148148148148145\n",
      "        27 ||| TT:    0 || CT:    0 || SP:   35 || CP: 50.0\n",
      "        28 ||| TT:    0 || CT:    0 || SP:   35 || CP: 48.275862068965516\n",
      "        29 ||| TT:    0 || CT:    0 || SP:   35 || CP: 50.0\n",
      "Observing Temperature\n",
      "        30 ||| TT:    0 || CT:   75 || SP:    0 || CP: 48.38709677419355\n",
      "        31 ||| TT:    0 || CT:   75 || SP:    0 || CP: 50.0\n",
      "        32 ||| TT:    0 || CT:   75 || SP:    0 || CP: 48.484848484848484\n",
      "        33 ||| TT:    0 || CT:   75 || SP:    0 || CP: 50.0\n",
      "        34 ||| TT:    0 || CT:   75 || SP:    0 || CP: 48.57142857142857\n",
      "        35 ||| TT:    0 || CT:   75 || SP:    0 || CP: 50.0\n",
      "        36 ||| TT:    0 || CT:   75 || SP:    0 || CP: 48.64864864864865\n",
      "        37 ||| TT:    0 || CT:   75 || SP:    0 || CP: 50.0\n",
      "        38 ||| TT:    0 || CT:   75 || SP:    0 || CP: 48.717948717948715\n",
      "        39 ||| TT:    0 || CT:   75 || SP:    0 || CP: 50.0\n",
      "        40 ||| TT:    0 || CT:   75 || SP:    0 || CP: 48.78048780487805\n",
      "        41 ||| TT:    0 || CT:   75 || SP:    0 || CP: 50.0\n",
      "        42 ||| TT:    0 || CT:   75 || SP:    0 || CP: 48.837209302325576\n",
      "        43 ||| TT:    0 || CT:   75 || SP:    0 || CP: 50.0\n",
      "        44 ||| TT:    0 || CT:   75 || SP:    0 || CP: 48.888888888888886\n",
      "        45 ||| TT:    0 || CT:   75 || SP:    0 || CP: 50.0\n",
      "        46 ||| TT:    0 || CT:   75 || SP:    0 || CP: 48.93617021276596\n",
      "        47 ||| TT:    0 || CT:   75 || SP:    0 || CP: 50.0\n",
      "        48 ||| TT:    0 || CT:   75 || SP:    0 || CP: 48.97959183673469\n",
      "        49 ||| TT:    0 || CT:   75 || SP:    0 || CP: 50.0\n",
      "        50 ||| TT:    0 || CT:   75 || SP:    0 || CP: 49.01960784313725\n",
      "        51 ||| TT:    0 || CT:   75 || SP:    0 || CP: 50.0\n",
      "        52 ||| TT:    0 || CT:   75 || SP:    0 || CP: 49.056603773584904\n",
      "        53 ||| TT:    0 || CT:   75 || SP:    0 || CP: 50.0\n",
      "        54 ||| TT:    0 || CT:   75 || SP:    0 || CP: 49.09090909090909\n",
      "        55 ||| TT:    0 || CT:   75 || SP:    0 || CP: 50.0\n",
      "        56 ||| TT:    0 || CT:   75 || SP:    0 || CP: 49.122807017543856\n",
      "        57 ||| TT:    0 || CT:   75 || SP:    0 || CP: 50.0\n",
      "        58 ||| TT:    0 || CT:   75 || SP:    0 || CP: 49.152542372881356\n",
      "        59 ||| TT:    0 || CT:   75 || SP:    0 || CP: 50.0\n",
      "Observing Temperature\n",
      "        60 ||| TT:    0 || CT:   75 || SP:    0 || CP: 49.18032786885246\n"
     ]
    }
   ],
   "source": [
    "k = KilnDrone()\n",
    "k.setPower = 35\n",
    "for i in range(60):\n",
    "    k.cycle()\n",
    "    print(k)"
   ]
  },
  {
   "cell_type": "code",
   "execution_count": 51,
   "id": "ef446c00-9795-4bb9-9ccb-783fe0c9a3a3",
   "metadata": {},
   "outputs": [
    {
     "data": {
      "text/plain": [
       "[False,\n",
       " True,\n",
       " False,\n",
       " True,\n",
       " False,\n",
       " True,\n",
       " False,\n",
       " True,\n",
       " False,\n",
       " True,\n",
       " False,\n",
       " True,\n",
       " False,\n",
       " True,\n",
       " False,\n",
       " True,\n",
       " False,\n",
       " True,\n",
       " False,\n",
       " True,\n",
       " False,\n",
       " True,\n",
       " False,\n",
       " True,\n",
       " False,\n",
       " True,\n",
       " False,\n",
       " True,\n",
       " False,\n",
       " True,\n",
       " False]"
      ]
     },
     "execution_count": 51,
     "metadata": {},
     "output_type": "execute_result"
    }
   ],
   "source": [
    "k.powerMemory"
   ]
  },
  {
   "cell_type": "code",
   "execution_count": 40,
   "id": "acc6421a-5008-4d51-8049-be650d56a265",
   "metadata": {},
   "outputs": [
    {
     "data": {
      "text/plain": [
       "80"
      ]
     },
     "execution_count": 40,
     "metadata": {},
     "output_type": "execute_result"
    }
   ],
   "source": [
    "k.setPower"
   ]
  },
  {
   "cell_type": "code",
   "execution_count": null,
   "id": "562e3263-0135-4bfd-afa9-fbd24dce2c70",
   "metadata": {},
   "outputs": [],
   "source": []
  }
 ],
 "metadata": {
  "kernelspec": {
   "display_name": "Python 3 (ipykernel)",
   "language": "python",
   "name": "python3"
  },
  "language_info": {
   "codemirror_mode": {
    "name": "ipython",
    "version": 3
   },
   "file_extension": ".py",
   "mimetype": "text/x-python",
   "name": "python",
   "nbconvert_exporter": "python",
   "pygments_lexer": "ipython3",
   "version": "3.8.5"
  }
 },
 "nbformat": 4,
 "nbformat_minor": 5
}
